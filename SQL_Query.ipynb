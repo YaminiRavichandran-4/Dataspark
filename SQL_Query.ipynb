{
 "cells": [
  {
   "cell_type": "code",
   "execution_count": null,
   "id": "7fa95cb0-6c60-4ee4-b017-256a0b23191c",
   "metadata": {},
   "outputs": [],
   "source": [
    "!pip install mysql-connector-python"
   ]
  },
  {
   "cell_type": "code",
   "execution_count": null,
   "id": "72bd768f-cf9d-43f1-8170-0c2e1d0a42e7",
   "metadata": {},
   "outputs": [],
   "source": [
    "from mysql import connector\n",
    "connection = connector.connect(\n",
    "    host = \"localhost\",\n",
    "    user=\"root\",\n",
    "    password = \"Umaravidaryam@2810\" ,\n",
    "    database=\"Dataspark\"\n",
    ")\n",
    "\n",
    "connection\n",
    "cursor = connection.cursor()\n",
    "cursor"
   ]
  },
  {
   "cell_type": "code",
   "execution_count": null,
   "id": "1a109d98-e3e7-4133-922b-31469aa66022",
   "metadata": {},
   "outputs": [],
   "source": [
    "cursor = connection.cursor()\n",
    "cursor"
   ]
  },
  {
   "cell_type": "code",
   "execution_count": null,
   "id": "c020940b-714a-4729-895f-af3354bc71b2",
   "metadata": {},
   "outputs": [],
   "source": [
    "query=\"show tables\"\n",
    "cursor.execute(query)\n",
    "for tb in cursor:\n",
    "    print(tb)"
   ]
  },
  {
   "cell_type": "code",
   "execution_count": null,
   "id": "ed532a7e-c0d9-4ee8-bba3-f2c49e23d8b5",
   "metadata": {
    "scrolled": true
   },
   "outputs": [],
   "source": [
    "query=\"select * from customer_details \"\n",
    "cursor.execute(query)\n",
    "for i in cursor:\n",
    "    print(i)"
   ]
  },
  {
   "cell_type": "code",
   "execution_count": null,
   "id": "198d02ee-54bd-4278-b452-2d76f14fad49",
   "metadata": {
    "scrolled": true
   },
   "outputs": [],
   "source": [
    "query=\"select * from exchange_rates_details \"\n",
    "cursor.execute(query)\n",
    "for i in cursor:\n",
    "    print(i)"
   ]
  },
  {
   "cell_type": "code",
   "execution_count": null,
   "id": "c464412d-5995-4036-be89-bb03505871cd",
   "metadata": {},
   "outputs": [],
   "source": [
    "query=\"select * from products_details \"\n",
    "cursor.execute(query)\n",
    "for i in cursor:\n",
    "    print(i)"
   ]
  },
  {
   "cell_type": "code",
   "execution_count": null,
   "id": "ee659833-79c7-4569-9529-413f87c31588",
   "metadata": {},
   "outputs": [],
   "source": [
    "query=\"select * from sales \"\n",
    "cursor.execute(query)\n",
    "for i in cursor:\n",
    "    print(i)"
   ]
  },
  {
   "cell_type": "code",
   "execution_count": null,
   "id": "3c201668-5a28-48f3-8da4-fa5a65bdf623",
   "metadata": {},
   "outputs": [],
   "source": [
    "query=\"select * from stores_details \"\n",
    "cursor.execute(query)\n",
    "for i in cursor:\n",
    "    print(i)"
   ]
  },
  {
   "cell_type": "code",
   "execution_count": 4,
   "id": "cdd040cb-02e2-49f3-941d-fd4b9621cf4b",
   "metadata": {},
   "outputs": [
    {
     "data": {
      "text/plain": [
       "<mysql.connector.cursor_cext.CMySQLCursor at 0x15a5ba3f750>"
      ]
     },
     "execution_count": 4,
     "metadata": {},
     "output_type": "execute_result"
    }
   ],
   "source": [
    "from mysql import connector\n",
    "connection = connector.connect(\n",
    "    host = \"localhost\",\n",
    "    user=\"root\",\n",
    "    password = \"Umaravidaryam@2810\" ,\n",
    "    database=\"Dataspark\"\n",
    ")\n",
    "\n",
    "connection\n",
    "cursor = connection.cursor()\n",
    "cursor"
   ]
  },
  {
   "cell_type": "code",
   "execution_count": 23,
   "id": "d902ea20-5515-4bc2-9aa4-db4dad918a91",
   "metadata": {},
   "outputs": [
    {
     "name": "stdout",
     "output_type": "stream",
     "text": [
      "('customer_details',)\n",
      "('exchange_rates_details',)\n",
      "('products_details',)\n",
      "('sales',)\n",
      "('stores_details',)\n"
     ]
    }
   ],
   "source": [
    "query=\"show tables\"\n",
    "cursor.execute(query)\n",
    "for i in cursor:\n",
    "    print(i)"
   ]
  },
  {
   "cell_type": "code",
   "execution_count": 35,
   "id": "682b69f9-2914-490f-85d5-344b76f26369",
   "metadata": {},
   "outputs": [
    {
     "name": "stdout",
     "output_type": "stream",
     "text": [
      "('StoreKey', 'int', 'YES', '', None, '')\n",
      "('Country', 'varchar(255)', 'YES', '', None, '')\n",
      "('State', 'varchar(255)', 'YES', '', None, '')\n",
      "('Square_Meters', 'float', 'YES', '', None, '')\n",
      "('Open_Date', 'varchar(255)', 'YES', '', None, '')\n"
     ]
    }
   ],
   "source": [
    "query='describe stores_details'\n",
    "cursor.execute(query)\n",
    "for i in cursor:\n",
    "    print(i)"
   ]
  },
  {
   "cell_type": "code",
   "execution_count": 36,
   "id": "f0e04e06-88b0-4e2c-88bc-66750c16a434",
   "metadata": {},
   "outputs": [
    {
     "name": "stdout",
     "output_type": "stream",
     "text": [
      "('Order_Number', 'int', 'YES', '', None, '')\n",
      "('Line_Item', 'int', 'YES', '', None, '')\n",
      "('Order_Date', 'varchar(255)', 'YES', '', None, '')\n",
      "('Delivery_Date', 'varchar(255)', 'YES', '', None, '')\n",
      "('CustomerKey', 'int', 'YES', '', None, '')\n",
      "('StoreKey', 'int', 'YES', '', None, '')\n",
      "('ProductKey', 'int', 'YES', '', None, '')\n",
      "('Quantity', 'int', 'YES', '', None, '')\n",
      "('Currency_Code', 'varchar(255)', 'YES', '', None, '')\n"
     ]
    }
   ],
   "source": [
    "query='describe sales'\n",
    "cursor.execute(query)\n",
    "for i in cursor:\n",
    "    print(i)"
   ]
  },
  {
   "cell_type": "code",
   "execution_count": 37,
   "id": "290434b3-6c0e-41f3-82b9-e4684b0df730",
   "metadata": {},
   "outputs": [
    {
     "name": "stdout",
     "output_type": "stream",
     "text": [
      "('ProductKey', 'int', 'YES', '', None, '')\n",
      "('Product_Name', 'varchar(255)', 'YES', '', None, '')\n",
      "('Brand', 'varchar(255)', 'YES', '', None, '')\n",
      "('Color', 'varchar(255)', 'YES', '', None, '')\n",
      "('Unit_Cost_USD', 'float', 'YES', '', None, '')\n",
      "('Unit_Price_USD', 'float', 'YES', '', None, '')\n",
      "('SubcategoryKey', 'varchar(255)', 'YES', '', None, '')\n",
      "('CategoryKey', 'varchar(255)', 'YES', '', None, '')\n",
      "('Category', 'varchar(255)', 'YES', '', None, '')\n"
     ]
    }
   ],
   "source": [
    "\n",
    "query='describe products_details'\n",
    "cursor.execute(query)\n",
    "for i in cursor:\n",
    "    print(i)\n"
   ]
  },
  {
   "cell_type": "markdown",
   "id": "6be7262a-edb7-4620-9dd8-3a3671b1a53c",
   "metadata": {},
   "source": [
    "# QUERIES"
   ]
  },
  {
   "cell_type": "code",
   "execution_count": 5,
   "id": "17945eac-3ca8-4c23-bc9a-71d2ecbc0075",
   "metadata": {},
   "outputs": [
    {
     "name": "stdout",
     "output_type": "stream",
     "text": [
      "(7518,)\n"
     ]
    }
   ],
   "source": [
    "#Overall female count\n",
    "query='''SELECT COUNT(Gender) AS Female_count \n",
    "FROM customer_details \n",
    "WHERE Gender = \"Female\"'''\n",
    "cursor.execute(query)\n",
    "for i in cursor:\n",
    "    print(i)\n"
   ]
  },
  {
   "cell_type": "code",
   "execution_count": 6,
   "id": "1766ded9-81ca-419a-a662-62afcc7474e4",
   "metadata": {},
   "outputs": [
    {
     "name": "stdout",
     "output_type": "stream",
     "text": [
      "(7748,)\n"
     ]
    }
   ],
   "source": [
    "#Overall male count\n",
    "query='''SELECT COUNT(Gender) AS Female_count \n",
    "FROM customer_details \n",
    "WHERE Gender = \"Male\"'''\n",
    "cursor.execute(query)\n",
    "for i in cursor:\n",
    "    print(i)\n"
   ]
  },
  {
   "cell_type": "code",
   "execution_count": null,
   "id": "60799aed-3243-417c-af8d-e8a1f13c4731",
   "metadata": {},
   "outputs": [],
   "source": [
    "# Count of customers By Country\n",
    "query = \"select count(CustomerKey),Country from customer_details group by Country\"\n",
    "cursor.execute(query)\n",
    "for i in cursor:\n",
    "    print(col)"
   ]
  },
  {
   "cell_type": "code",
   "execution_count": null,
   "id": "f3596656-20a6-4554-8083-d202caf5b551",
   "metadata": {},
   "outputs": [],
   "source": [
    "# Count of stores by country\n",
    "query= \"select count(StoreKey),Country from stores_details group by Country\"\n",
    "cursor.execute(query)\n",
    "for i in cursor:\n",
    "    print(i)\n"
   ]
  },
  {
   "cell_type": "code",
   "execution_count": null,
   "id": "8b525735-7a2a-4cbf-808d-e67bc9aab6c1",
   "metadata": {},
   "outputs": [],
   "source": [
    "# Store-wise sales\n",
    "query=\"\"\" SELECT sales.StoreKey, stores_details.Country, SUM(products_details.Unit_Price_USD * sales.Quantity) as TotalSales\n",
    "FROM products_details \n",
    "JOIN sales ON products_details.ProductKey = sales.ProductKey \n",
    "JOIN stores_details  ON sales.StoreKey = stores_details.StoreKey \n",
    "GROUP BY sales.StoreKey, stores_details.Country\"\"\"\n",
    "cursor.execute(query)\n",
    "for i in cursor:\n",
    "    print(i)"
   ]
  },
  {
   "cell_type": "code",
   "execution_count": null,
   "id": "0f7befe1-678a-4856-941e-d9e70731d216",
   "metadata": {},
   "outputs": [],
   "source": [
    "# profit and profit%\n",
    "query=\"select Unit_Price_USD, Unit_Cost_USD,round((Unit_Price_USD-Unit_Cost_USD),2) as Profit,round(((Unit_Price_USD-Unit_Cost_USD)/Unit_Cost_USD)*100,2) as ProfitPercent from products_details\"\n",
    "cursor.execute(query)\n",
    "for i in cursor:\n",
    "    print(i)"
   ]
  },
  {
   "cell_type": "code",
   "execution_count": 40,
   "id": "c0544d81-6883-4645-b0c8-2e8a28eee21d",
   "metadata": {},
   "outputs": [
    {
     "name": "stdout",
     "output_type": "stream",
     "text": [
      "('Australia', 23090552.0)\n",
      "('United Kingdom', 63247468.0)\n",
      "('United States', 261408684.0)\n",
      "('Germany', 46709071.0)\n",
      "('Online', 125447571.0)\n",
      "('Netherlands', 17504789.0)\n",
      "('Italy', 22649955.0)\n",
      "('Canada', 39727180.0)\n",
      "('France', 13525005.0)\n"
     ]
    }
   ],
   "source": [
    "# Country overall sales\n",
    "query=\"\"\"select stores_details.Country, round(sum(products_details.Unit_Price_USD*sales.Quantity)) as Total_sales from sales\n",
    "join stores_details on sales.StoreKey=stores_details.StoreKey\n",
    "join products_details on sales.ProductKey=products_details.ProductKey\n",
    "group by stores_details.Country\n",
    "\"\"\"\n",
    "cursor.execute(query)\n",
    "for i in cursor:\n",
    "    print(i)"
   ]
  },
  {
   "cell_type": "code",
   "execution_count": 47,
   "id": "45d283e5-0ec4-4f2d-b78b-0331f3aa7303",
   "metadata": {},
   "outputs": [
    {
     "name": "stdout",
     "output_type": "stream",
     "text": [
      "(2016, 6946793.544998169)\n",
      "(2017, 7421422.260695338)\n",
      "(2018, 12788960.648185968)\n",
      "(2019, 18264382.46236074)\n",
      "(2020, 9294632.129472375)\n",
      "(2021, 1039288.4792466164)\n"
     ]
    }
   ],
   "source": [
    "#Year-wise sales\n",
    "query='''SELECT YEAR(sales.Order_Date) as year, SUM(products_details.Unit_price_USD * sales.Quantity) AS TotalSales \n",
    "FROM sales \n",
    "JOIN  products_details ON sales.ProductKey = products_details.ProductKey \n",
    "GROUP BY YEAR(sales.Order_Date)'''\n",
    "cursor.execute(query)\n",
    "for i in cursor:\n",
    "    print(i)"
   ]
  },
  {
   "cell_type": "code",
   "execution_count": 41,
   "id": "1b3c5f97-b40c-4d32-b794-28f8a61b3402",
   "metadata": {},
   "outputs": [
    {
     "name": "stdout",
     "output_type": "stream",
     "text": [
      "(2016, 4107000.4580153227, None, None)\n",
      "(2017, 4337064.057139695, 4107000.4580153227, 5.6)\n",
      "(2018, 7464961.107233167, 4337064.057139695, 72.12)\n",
      "(2019, 10697738.897461832, 7464961.107233167, 43.31)\n",
      "(2020, 5447460.147482812, 10697738.897461832, -49.08)\n",
      "(2021, 608463.6901602745, 5447460.147482812, -88.83)\n"
     ]
    }
   ],
   "source": [
    "#Year-wise profit\n",
    "query=\"\"\"SELECT YEAR(Order_Date) AS Year,\n",
    "       (SUM(products_details.Unit_Price_USD * sales.Quantity) - SUM(products_details.Unit_Cost_USD * sales.Quantity)) AS sales, \n",
    "       LAG(SUM(products_details.Unit_Price_USD * sales.Quantity) - SUM(products_details.Unit_Cost_USD * sales.Quantity)) \n",
    "       OVER (ORDER BY YEAR(Order_Date)) AS Previous_year_Sales,\n",
    "       ROUND(((SUM(products_details.Unit_Price_USD * sales.Quantity) - SUM(products_details.Unit_Cost_USD * sales.Quantity)) -\n",
    "       LAG(SUM(products_details.Unit_Price_USD * sales.Quantity) - SUM(products_details.Unit_Cost_USD * sales.Quantity)) \n",
    "       OVER (ORDER BY YEAR(Order_Date))) / LAG(SUM(products_details.Unit_Price_USD * sales.Quantity) - SUM(products_details.Unit_Cost_USD * sales.Quantity)) \n",
    "       OVER (ORDER BY YEAR(Order_Date)) * 100, 2) AS profit_percent\n",
    "       FROM sales  \n",
    "       JOIN products_details  ON sales.ProductKey = products_details.ProductKey \n",
    "       GROUP BY YEAR(Order_Date)\"\"\"\n",
    "cursor.execute(query)\n",
    "for i in cursor:\n",
    "    print(i)\n"
   ]
  },
  {
   "cell_type": "code",
   "execution_count": null,
   "id": "40e6ab80-3da3-40dc-aee6-29f1a5ef45ba",
   "metadata": {},
   "outputs": [],
   "source": []
  }
 ],
 "metadata": {
  "kernelspec": {
   "display_name": "Python 3 (ipykernel)",
   "language": "python",
   "name": "python3"
  },
  "language_info": {
   "codemirror_mode": {
    "name": "ipython",
    "version": 3
   },
   "file_extension": ".py",
   "mimetype": "text/x-python",
   "name": "python",
   "nbconvert_exporter": "python",
   "pygments_lexer": "ipython3",
   "version": "3.13.0"
  }
 },
 "nbformat": 4,
 "nbformat_minor": 5
}
